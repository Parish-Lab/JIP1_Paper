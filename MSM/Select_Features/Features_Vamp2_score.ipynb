{
 "cells": [
  {
   "cell_type": "code",
   "execution_count": 8,
   "metadata": {},
   "outputs": [
    {
     "name": "stdout",
     "output_type": "stream",
     "text": [
      "Using matplotlib backend: Qt5Agg\n",
      "Populating the interactive namespace from numpy and matplotlib\n"
     ]
    },
    {
     "name": "stderr",
     "output_type": "stream",
     "text": [
      "C:\\Users\\mahdi\\anaconda3\\envs\\mlapp_v1\\lib\\site-packages\\IPython\\core\\magics\\pylab.py:160: UserWarning: pylab import has clobbered these variables: ['axes']\n",
      "`%matplotlib` prevents importing * from pylab and numpy\n",
      "  \"\\n`%matplotlib` prevents importing * from pylab and numpy\"\n"
     ]
    }
   ],
   "source": [
    "import pyemma\n",
    "pyemma.__version__\n",
    "# IMPORT GENERAL PACKAGES\n",
    "import numpy as np\n",
    "from IPython import get_ipython\n",
    "get_ipython().run_line_magic('pylab','')\n",
    "import pyemma.coordinates as coor\n",
    "%matplotlib inline\n",
    "import matplotlib.pyplot as plt\n",
    "import matplotlib as mpl\n",
    "import numpy as np\n",
    "#import mdshare\n",
    "import pyemma\n",
    "from distutils import util\n",
    "\n"
   ]
  },
  {
   "cell_type": "code",
   "execution_count": 9,
   "metadata": {},
   "outputs": [],
   "source": [
    "# -------------------------------------------------LOAD DATA-------------------------------------------------------------\n",
    "trajfile = 'JIP1_all_stripped_imaged.nc'\n",
    "topfile = 'JIP1.prmtop'\n",
    "\n",
    "feat = coor.featurizer(topfile)\n",
    "\n",
    "inp = coor.source(trajfile, feat)"
   ]
  },
  {
   "cell_type": "code",
   "execution_count": 10,
   "metadata": {},
   "outputs": [
    {
     "name": "stdout",
     "output_type": "stream",
     "text": [
      "trajectory length =  200000\n",
      "number of dimension =  416\n"
     ]
    },
    {
     "name": "stderr",
     "output_type": "stream",
     "text": [
      "<ipython-input-10-c0e04a695220>:16: PyEMMA_DeprecationWarning: Call to deprecated function \"add_chi1_torsions\". Called from <ipython-input-10-c0e04a695220> line 16. Please use \"add_sidechain_torsions(which=['chi1'])\"\n",
      "  chi_feat.add_chi1_torsions(cossin=True)\n",
      "C:\\Users\\mahdi\\anaconda3\\envs\\mlapp_v1\\lib\\site-packages\\mdtraj\\geometry\\dihedral.py:374: FutureWarning: arrays to stack must be passed as a \"sequence\" type such as list or tuple. Support for non-sequence iterables such as generators is deprecated as of NumPy 1.16 and will raise an error in the future.\n",
      "  indices = np.vstack(x for x in indices if x.size)[id_sort]\n",
      "C:\\Users\\mahdi\\anaconda3\\envs\\mlapp_v1\\lib\\site-packages\\pyemma\\coordinates\\data\\featurization\\angles.py:211: FutureWarning: arrays to stack must be passed as a \"sequence\" type such as list or tuple. Support for non-sequence iterables such as generators is deprecated as of NumPy 1.16 and will raise an error in the future.\n",
      "  indices = np.vstack(valid.values())\n"
     ]
    }
   ],
   "source": [
    "torsions_feat = coor.featurizer(topfile)\n",
    "torsions_feat.add_backbone_torsions(cossin=True)\n",
    "inp_torsions_feat = coor.source(trajfile, torsions_feat)\n",
    "torsions_data = inp_torsions_feat\n",
    "labels = ['backbone\\ntorsions']\n",
    "\n",
    "\n",
    "distances_feat = coor.featurizer(topfile)\n",
    "distances_feat.add_distances(\n",
    "distances_feat.pairs(distances_feat.select_Backbone(), excluded_neighbors=2), periodic=False)\n",
    "inp_distances_feat = coor.source(trajfile, distances_feat)\n",
    "distances_data = inp_distances_feat\n",
    "labels += ['backbone atom\\ndistances']\n",
    "\n",
    "chi_feat = coor.featurizer(topfile)\n",
    "chi_feat.add_chi1_torsions(cossin=True)\n",
    "inp_chi_feat = coor.source(trajfile, chi_feat)\n",
    "chi_data = inp_chi_feat\n",
    "labels += ['chi1\\ntorsions']\n",
    "\n",
    "xyz_feat = coor.featurizer(topfile)\n",
    "xyz_feat.add_all()\n",
    "inp_xyz_feat = coor.source(trajfile, xyz_feat)\n",
    "xyz_data = inp_xyz_feat\n",
    "labels += ['xyz\\ncoordinate']\n",
    "\n",
    "positions_feat = coor.featurizer(topfile)\n",
    "positions_feat.add_selection(positions_feat.select_Backbone())\n",
    "inp_positions_feat = coor.source(trajfile, positions_feat)\n",
    "positions_data = inp_positions_feat\n",
    "\n",
    "labels += ['backbone atom\\npositions']\n",
    "\n",
    "\n",
    "print ('trajectory length = ',inp_distances_feat.trajectory_length(0))\n",
    "print ('number of dimension = ',inp_distances_feat.dimension())\n",
    "\n",
    "\n",
    "#labels"
   ]
  },
  {
   "cell_type": "code",
   "execution_count": 12,
   "metadata": {},
   "outputs": [
    {
     "data": {
      "image/png": "[encoded data removed]",
      "text/plain": [
       "<Figure size 864x360 with 2 Axes>"
      ]
     },
     "metadata": {
      "needs_background": "light"
     },
     "output_type": "display_data"
    }
   ],
   "source": [
    " dim = 11\n",
    "\n",
    "fig, axes = plt.subplots(1, 2, figsize=(12, 5), sharey=True)\n",
    "for ax, lag in zip(axes.flat, [ 100,200]):\n",
    "    torsions_scores = coor.vamp(torsions_data, lag=lag, dim=dim).score(\n",
    "        test_data=torsions_data,\n",
    "        score_method='VAMP2')\n",
    "    scores = [torsions_scores.mean()]\n",
    "    errors = [torsions_scores.std()]\n",
    "    distances_scores = coor.vamp(distances_data, lag=lag, dim=dim).score(\n",
    "        test_data=distances_data,\n",
    "        score_method='VAMP2')\n",
    "    scores += [distances_scores.mean()]\n",
    "    errors += [distances_scores.std()]\n",
    "    chi_scores = coor.vamp(chi_data, lag=lag, dim=dim).score(\n",
    "        test_data=chi_data,\n",
    "        score_method='VAMP2')\n",
    "    scores += [chi_scores.mean()]\n",
    "    errors += [chi_scores.std()]\n",
    "    positions_scores = coor.vamp(positions_data, lag=lag, dim=dim).score(\n",
    "        test_data=positions_data,\n",
    "        score_method='VAMP2')\n",
    "    scores += [positions_scores.mean()]\n",
    "    errors += [positions_scores.std()]\n",
    "    xyz_scores = coor.vamp(xyz_data, lag=lag, dim=dim).score(\n",
    "        test_data=xyz_data,\n",
    "        score_method='VAMP2')\n",
    "    scores += [xyz_scores.mean()]\n",
    "    errors += [xyz_scores.std()]\n",
    "    ax.bar(labels, scores, yerr=errors, color=['C0', 'C1', 'C2','C3', 'C4'])\n",
    "    ax.set_title(r'lag time $\\tau$={:.1f}ns'.format(lag * 0.1))\n",
    "    if lag == 100:\n",
    "    \n",
    "        vamp_bars_plot = dict(\n",
    "            labels=labels, scores=scores, errors=errors, dim=dim, lag=lag)\n",
    "axes[0].set_ylabel('VAMP2 score')\n",
    "fig.tight_layout()"
   ]
  },
  {
   "cell_type": "code",
   "execution_count": null,
   "metadata": {},
   "outputs": [],
   "source": []
  }
 ],
 "metadata": {
  "kernelspec": {
   "display_name": "Python 3",
   "language": "python",
   "name": "python3"
  },
  "language_info": {
   "codemirror_mode": {
    "name": "ipython",
    "version": 3
   },
   "file_extension": ".py",
   "mimetype": "text/x-python",
   "name": "python",
   "nbconvert_exporter": "python",
   "pygments_lexer": "ipython3",
   "version": "3.7.7"
  }
 },
 "nbformat": 4,
 "nbformat_minor": 4
}
