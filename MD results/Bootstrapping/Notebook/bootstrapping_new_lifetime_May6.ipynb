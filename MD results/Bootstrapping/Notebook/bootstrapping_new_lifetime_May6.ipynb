{
 "cells": [
  {
   "cell_type": "code",
   "execution_count": 250,
   "metadata": {},
   "outputs": [
    {
     "data": {
      "text/html": [
       "<div>\n",
       "<style scoped>\n",
       "    .dataframe tbody tr th:only-of-type {\n",
       "        vertical-align: middle;\n",
       "    }\n",
       "\n",
       "    .dataframe tbody tr th {\n",
       "        vertical-align: top;\n",
       "    }\n",
       "\n",
       "    .dataframe thead th {\n",
       "        text-align: right;\n",
       "    }\n",
       "</style>\n",
       "<table border=\"1\" class=\"dataframe\">\n",
       "  <thead>\n",
       "    <tr style=\"text-align: right;\">\n",
       "      <th></th>\n",
       "      <th>conf1</th>\n",
       "      <th>conf2</th>\n",
       "      <th>conf3</th>\n",
       "      <th>conf4</th>\n",
       "      <th>conf5</th>\n",
       "      <th>conf6</th>\n",
       "      <th>conf7</th>\n",
       "    </tr>\n",
       "  </thead>\n",
       "  <tbody>\n",
       "    <tr>\n",
       "      <th>0</th>\n",
       "      <td>434</td>\n",
       "      <td>1924</td>\n",
       "      <td>4296.0</td>\n",
       "      <td>1246.0</td>\n",
       "      <td>336.0</td>\n",
       "      <td>436.0</td>\n",
       "      <td>5160</td>\n",
       "    </tr>\n",
       "    <tr>\n",
       "      <th>1</th>\n",
       "      <td>225</td>\n",
       "      <td>837</td>\n",
       "      <td>2130.0</td>\n",
       "      <td>690.0</td>\n",
       "      <td>213.0</td>\n",
       "      <td>168.0</td>\n",
       "      <td>3288</td>\n",
       "    </tr>\n",
       "    <tr>\n",
       "      <th>2</th>\n",
       "      <td>132</td>\n",
       "      <td>580</td>\n",
       "      <td>1328.0</td>\n",
       "      <td>488.0</td>\n",
       "      <td>172.0</td>\n",
       "      <td>156.0</td>\n",
       "      <td>2536</td>\n",
       "    </tr>\n",
       "    <tr>\n",
       "      <th>3</th>\n",
       "      <td>105</td>\n",
       "      <td>375</td>\n",
       "      <td>965.0</td>\n",
       "      <td>310.0</td>\n",
       "      <td>100.0</td>\n",
       "      <td>80.0</td>\n",
       "      <td>2160</td>\n",
       "    </tr>\n",
       "    <tr>\n",
       "      <th>4</th>\n",
       "      <td>36</td>\n",
       "      <td>294</td>\n",
       "      <td>774.0</td>\n",
       "      <td>318.0</td>\n",
       "      <td>108.0</td>\n",
       "      <td>54.0</td>\n",
       "      <td>1926</td>\n",
       "    </tr>\n",
       "  </tbody>\n",
       "</table>\n",
       "</div>"
      ],
      "text/plain": [
       "   conf1  conf2   conf3   conf4  conf5  conf6  conf7\n",
       "0    434   1924  4296.0  1246.0  336.0  436.0   5160\n",
       "1    225    837  2130.0   690.0  213.0  168.0   3288\n",
       "2    132    580  1328.0   488.0  172.0  156.0   2536\n",
       "3    105    375   965.0   310.0  100.0   80.0   2160\n",
       "4     36    294   774.0   318.0  108.0   54.0   1926"
      ]
     },
     "execution_count": 250,
     "metadata": {},
     "output_type": "execute_result"
    }
   ],
   "source": [
    "import pandas\n",
    "\n",
    "import pandas as pd\n",
    "import numpy as np\n",
    "import matplotlib.pyplot as plt\n",
    "from sklearn.utils import resample\n",
    "from pandas.plotting import autocorrelation_plot\n",
    "\n",
    "cust_df = pd.read_csv(\"lifetime-newresult_conformer_v3.csv\")\n",
    "\n",
    "cust_df.head()\n"
   ]
  },
  {
   "cell_type": "code",
   "execution_count": 251,
   "metadata": {},
   "outputs": [],
   "source": [
    "conf1= cust_df[\"conf1\"]\n",
    "conf2= cust_df[\"conf2\"]\n",
    "conf3= cust_df[\"conf3\"]\n",
    "conf4= cust_df[\"conf4\"]\n",
    "conf5= cust_df[\"conf5\"]\n",
    "conf6= cust_df[\"conf6\"]\n",
    "conf7= cust_df[\"conf7\"]"
   ]
  },
  {
   "cell_type": "code",
   "execution_count": 255,
   "metadata": {},
   "outputs": [
    {
     "data": {
      "text/plain": [
       "(123,)"
      ]
     },
     "execution_count": 255,
     "metadata": {},
     "output_type": "execute_result"
    }
   ],
   "source": [
    "conf1_nozero=conf1[conf1 > 0]\n",
    "conf2_nozero=conf2[conf2 > 0]\n",
    "conf3_nozero=conf3[conf3 > 0]\n",
    "conf4_nozero=conf4[conf4 > 0]\n",
    "conf5_nozero=conf5[conf5 > 0]\n",
    "conf6_nozero=conf6[conf6 > 0]\n",
    "conf7_nozero=conf7[conf7 > 0]\n",
    "#np.sum(conf1_nozero)\n",
    "#conf1_nozero\n",
    "conf3_nozero.shape"
   ]
  },
  {
   "cell_type": "code",
   "execution_count": null,
   "metadata": {},
   "outputs": [],
   "source": []
  },
  {
   "cell_type": "code",
   "execution_count": 258,
   "metadata": {},
   "outputs": [
    {
     "name": "stdout",
     "output_type": "stream",
     "text": [
      "len(conf1_nozero)= 54\n",
      "len(conf2_nozero)= 63\n",
      "len(conf3_nozero)= 123\n",
      "len(conf4_nozero)= 20\n",
      "len(conf5_nozero)= 70\n",
      "len(conf6_nozero)= 18\n",
      "len(conf7_nozero)= 98\n"
     ]
    }
   ],
   "source": [
    "print (\"len(conf1_nozero)=\",len(conf1_nozero) )\n",
    "print (\"len(conf2_nozero)=\",len(conf2_nozero) )\n",
    "print (\"len(conf3_nozero)=\",len(conf3_nozero) )\n",
    "print (\"len(conf4_nozero)=\",len(conf4_nozero) )\n",
    "print (\"len(conf5_nozero)=\",len(conf5_nozero) )\n",
    "print (\"len(conf6_nozero)=\",len(conf6_nozero) )\n",
    "print (\"len(conf7_nozero)=\",len(conf7_nozero) )"
   ]
  },
  {
   "cell_type": "markdown",
   "metadata": {},
   "source": [
    "#conf1_nozero=conf1[0:9539]\n",
    "#conf2_nozero=conf2[0:1600]\n",
    "conf3_nozero=conf3[0:1600]\n",
    "conf4_nozero=conf4[0:1600]\n",
    "conf5_nozero=conf5[0:1600]\n",
    "conf6_nozero=conf6[0:1600]\n",
    "conf7_nozero=conf6[0:1600]\n"
   ]
  },
  {
   "cell_type": "markdown",
   "metadata": {},
   "source": [
    "# Conformer 1"
   ]
  },
  {
   "cell_type": "code",
   "execution_count": 209,
   "metadata": {
    "scrolled": true
   },
   "outputs": [
    {
     "name": "stdout",
     "output_type": "stream",
     "text": [
      "stdconf1 = 0.003357103896313714\n",
      "medianconf1 = 0.0002625\n",
      "meanconf1 =  0.001596851851851852\n",
      "sum_conf1= 0.08623\n",
      "liftime_conf1= 0.08623\n"
     ]
    }
   ],
   "source": [
    "from sklearn.utils import resample\n",
    "#boot = resample(conf1_nozero, replace=True, n_samples=50)\n",
    "boot = np.random.choice(conf1_nozero, size=54, replace=True)\n",
    "#print('Bootstrap Sample: %s' % boot)\n",
    "oob = [x for x in conf1_nozero if x not in boot]\n",
    "#print('OOB Sample: %s' % oob)\n",
    "meanconf1=np.mean(boot)\n",
    "stdconf1=np.std(boot)\n",
    "medianconf1=np.median(boot)\n",
    "sum_conf1=np.sum(boot)\n",
    "liftime_conf1=(sum_conf1/200000)\n",
    "print (\"stdconf1 =\", stdconf1/200000)\n",
    "print (\"medianconf1 =\",medianconf1/200000)\n",
    "print (\"meanconf1 = \", meanconf1/200000)\n",
    "print (\"sum_conf1=\",sum_conf1/200000 )\n",
    "print (\"liftime_conf1=\",liftime_conf1 )\n",
    "#fig = pd.plotting.bootstrap_plot(boot/200000) "
   ]
  },
  {
   "cell_type": "markdown",
   "metadata": {},
   "source": [
    "# Conformer 2"
   ]
  },
  {
   "cell_type": "code",
   "execution_count": 210,
   "metadata": {},
   "outputs": [
    {
     "name": "stdout",
     "output_type": "stream",
     "text": [
      "stdconf2 = 0.002121571717686673\n",
      "medianconf2 = 0.0005\n",
      "meanconf2 =  0.0011940476190476189\n",
      "sum_conf2= 0.075225\n",
      "liftime_conf2= 0.075225\n"
     ]
    }
   ],
   "source": [
    "#bootconf2 = resample(conf2_nozero, replace=True, n_samples=60, random_state=2)\n",
    "bootconf2 = np.random.choice(conf2_nozero, size=63, replace=True)\n",
    "#print('Bootstrap Sample: %s' % bootconf2)\n",
    "meanconf2=np.mean(bootconf2)\n",
    "stdconf2=np.std(bootconf2)\n",
    "medianconf2=np.median(bootconf2)\n",
    "sum_conf2=np.sum(bootconf2)\n",
    "liftime_conf2=(sum_conf2/200000)\n",
    "print (\"stdconf2 =\", stdconf2/200000)\n",
    "print (\"medianconf2 =\",medianconf2/200000)\n",
    "print (\"meanconf2 = \", meanconf2/200000)\n",
    "#fig = pd.plotting.bootstrap_plot(bootconf2/200000)  \n",
    "print (\"sum_conf2=\",sum_conf2/200000 )\n",
    "print (\"liftime_conf2=\",liftime_conf2 )"
   ]
  },
  {
   "cell_type": "markdown",
   "metadata": {},
   "source": [
    "# Conformer 3"
   ]
  },
  {
   "cell_type": "code",
   "execution_count": 211,
   "metadata": {},
   "outputs": [
    {
     "name": "stdout",
     "output_type": "stream",
     "text": [
      "stdconf3 = 0.002221425939445608\n",
      "medianconf3 = 0.00094\n",
      "meanconf3 =  0.0014207317073170731\n",
      "sum_conf3= 0.17475\n",
      "liftime_conf3= 0.17475\n"
     ]
    }
   ],
   "source": [
    "#bootconf3 = resample(conf3_nozero, replace=True, n_samples=124, random_state=2)\n",
    "#bootconf3 = np.random.choice(conf3_nozero, size=124, replace=True)\n",
    "bootconf3 = np.random.choice(conf3_nozero, size=123, replace=True)\n",
    "\n",
    "#print('Bootstrap Sample: %s' % bootconf3)\n",
    "meanconf3=np.mean(bootconf3)\n",
    "stdconf3=np.std(bootconf3)\n",
    "medianconf3=np.median(bootconf3)\n",
    "sum_conf3=np.sum(bootconf3)\n",
    "liftime_conf3=(sum_conf3/200000)\n",
    "print (\"stdconf3 =\", stdconf3/200000)\n",
    "print (\"medianconf3 =\",medianconf3/200000)\n",
    "print (\"meanconf3 = \", meanconf3/200000)\n",
    "#fig = pd.plotting.bootstrap_plot(bootconf3/200000)  \n",
    "print (\"sum_conf3=\",sum_conf3/200000 )\n",
    "print (\"liftime_conf3=\",liftime_conf3 )"
   ]
  },
  {
   "cell_type": "markdown",
   "metadata": {},
   "source": [
    "# Conformer 4"
   ]
  },
  {
   "cell_type": "code",
   "execution_count": 212,
   "metadata": {},
   "outputs": [
    {
     "name": "stdout",
     "output_type": "stream",
     "text": [
      "stdconf4 = 0.0010260091373862125\n",
      "medianconf4 = 0.00048\n",
      "meanconf4 =  0.0008505\n",
      "sum_conf4= 0.01701\n",
      "liftime_conf4= 0.01701\n"
     ]
    }
   ],
   "source": [
    "#bootconf4 = resample(conf4_nozero, replace=True, n_samples=21, random_state=None)\n",
    "#print('Bootstrap Sample: %s' % bootconf4)\n",
    "bootconf4 = np.random.choice(conf4_nozero, size=20, replace=True)\n",
    "\n",
    "meanconf4=np.mean(bootconf4)\n",
    "stdconf4=np.std(bootconf4)\n",
    "medianconf4=np.median(bootconf4)\n",
    "sum_conf4=np.sum(bootconf4)\n",
    "liftime_conf4=(sum_conf4/200000)\n",
    "print (\"stdconf4 =\", stdconf4/200000)\n",
    "print (\"medianconf4 =\",medianconf4/200000)\n",
    "print (\"meanconf4 = \", meanconf4/200000)\n",
    "print (\"sum_conf4=\",sum_conf4/200000 )\n",
    "print (\"liftime_conf4=\",liftime_conf4 )\n",
    "#fig = pd.plotting.bootstrap_plot(bootconf4/200000) "
   ]
  },
  {
   "cell_type": "markdown",
   "metadata": {},
   "source": [
    "# Conformer 5"
   ]
  },
  {
   "cell_type": "code",
   "execution_count": 213,
   "metadata": {},
   "outputs": [
    {
     "name": "stdout",
     "output_type": "stream",
     "text": [
      "stdconf5 = 0.0038054312964552143\n",
      "medianconf5 = 0.000515\n",
      "meanconf5 =  0.0019880714285714285\n",
      "sum_conf5= 0.139165\n",
      "liftime_conf5= 0.139165\n"
     ]
    }
   ],
   "source": [
    "#bootconf5 = resample(conf5_nozero, replace=True, n_samples=71, random_state=2)\n",
    "#print('Bootstrap Sample: %s' % bootconf5)\n",
    "bootconf5 = np.random.choice(conf5_nozero, size=70, replace=True)\n",
    "meanconf5=np.mean(bootconf5)\n",
    "stdconf5=np.std(bootconf5)\n",
    "medianconf5=np.median(bootconf5)\n",
    "sum_conf5=np.sum(bootconf5)\n",
    "liftime_conf5=(sum_conf5/200000)\n",
    "print (\"stdconf5 =\", stdconf5/200000)\n",
    "print (\"medianconf5 =\",medianconf5/200000)\n",
    "print (\"meanconf5 = \", meanconf5/200000)\n",
    "print (\"sum_conf5=\",sum_conf5/200000 )\n",
    "print (\"liftime_conf5=\",liftime_conf5 )\n",
    "#fig = pd.plotting.bootstrap_plot(bootconf5/200000) "
   ]
  },
  {
   "cell_type": "markdown",
   "metadata": {},
   "source": [
    "# Conformer 6"
   ]
  },
  {
   "cell_type": "code",
   "execution_count": 227,
   "metadata": {},
   "outputs": [
    {
     "name": "stdout",
     "output_type": "stream",
     "text": [
      "stdconf6 = 0.004502944244301049\n",
      "medianconf6 = 0.0002525\n",
      "meanconf6 =  0.0014152777777777777\n",
      "sum_conf6= 0.025475\n",
      "liftime_conf6= 0.025475\n"
     ]
    }
   ],
   "source": [
    "#bootconf6 = resample(conf6_nozero, replace=True, n_samples=19, random_state=2)\n",
    "\n",
    "bootconf6 = np.random.choice(conf6_nozero, size=18, replace=True)\n",
    "\n",
    "meanconf6=np.mean(bootconf6)\n",
    "stdconf6=np.std(bootconf6)\n",
    "medianconf6=np.median(bootconf6)\n",
    "sum_conf6=np.sum(bootconf6)\n",
    "liftime_conf6=(sum_conf6/200000)\n",
    "print (\"stdconf6 =\", stdconf6/200000)\n",
    "print (\"medianconf6 =\",medianconf6/200000)\n",
    "print (\"meanconf6 = \", meanconf6/200000)\n",
    "print (\"sum_conf6=\",sum_conf6/200000 )\n",
    "print (\"liftime_conf6=\",liftime_conf6 )\n",
    "#fig = pd.plotting.bootstrap_plot(bootconf6/200000)"
   ]
  },
  {
   "cell_type": "markdown",
   "metadata": {},
   "source": [
    "# Conformer 7"
   ]
  },
  {
   "cell_type": "code",
   "execution_count": 228,
   "metadata": {},
   "outputs": [
    {
     "name": "stdout",
     "output_type": "stream",
     "text": [
      "stdconf7 = 0.004261903519342512\n",
      "medianconf7 = 0.0011\n",
      "meanconf7 =  0.002564234693877551\n",
      "sum_conf7= 0.251295\n",
      "liftime_conf7= 0.251295\n"
     ]
    }
   ],
   "source": [
    "#bootconf7 = resample(conf6_nozero, replace=True, n_samples=98, random_state=None)\n",
    "bootconf7 = np.random.choice(conf7_nozero, size=98, replace=True)\n",
    "\n",
    "meanconf7=np.mean(bootconf7)\n",
    "stdconf7=np.std(bootconf7)\n",
    "medianconf7=np.median(bootconf7)\n",
    "sum_conf7=np.sum(bootconf7)\n",
    "liftime_conf7=(sum_conf7/200000)\n",
    "print (\"stdconf7 =\", stdconf7/200000)\n",
    "print (\"medianconf7 =\",medianconf7/200000)\n",
    "print (\"meanconf7 = \", meanconf7/200000)\n",
    "print (\"sum_conf7=\",sum_conf7/200000 )\n",
    "print (\"liftime_conf7=\",liftime_conf7 )\n",
    "#fig = pd.plotting.bootstrap_plot(bootconf7/200000)"
   ]
  },
  {
   "cell_type": "markdown",
   "metadata": {},
   "source": [
    "# Reading the real lifetime"
   ]
  },
  {
   "cell_type": "code",
   "execution_count": 229,
   "metadata": {},
   "outputs": [
    {
     "data": {
      "text/html": [
       "<div>\n",
       "<style scoped>\n",
       "    .dataframe tbody tr th:only-of-type {\n",
       "        vertical-align: middle;\n",
       "    }\n",
       "\n",
       "    .dataframe tbody tr th {\n",
       "        vertical-align: top;\n",
       "    }\n",
       "\n",
       "    .dataframe thead th {\n",
       "        text-align: right;\n",
       "    }\n",
       "</style>\n",
       "<table border=\"1\" class=\"dataframe\">\n",
       "  <thead>\n",
       "    <tr style=\"text-align: right;\">\n",
       "      <th></th>\n",
       "      <th>conf1</th>\n",
       "      <th>conf2</th>\n",
       "      <th>conf3</th>\n",
       "      <th>conf4</th>\n",
       "      <th>conf5</th>\n",
       "      <th>conf6</th>\n",
       "      <th>conf7</th>\n",
       "    </tr>\n",
       "  </thead>\n",
       "  <tbody>\n",
       "    <tr>\n",
       "      <th>0</th>\n",
       "      <td>0.09803</td>\n",
       "      <td>0.07623</td>\n",
       "      <td>0.17793</td>\n",
       "      <td>0.020145</td>\n",
       "      <td>0.143175</td>\n",
       "      <td>0.02703</td>\n",
       "      <td>0.26172</td>\n",
       "    </tr>\n",
       "  </tbody>\n",
       "</table>\n",
       "</div>"
      ],
      "text/plain": [
       "     conf1    conf2    conf3     conf4     conf5    conf6    conf7\n",
       "0  0.09803  0.07623  0.17793  0.020145  0.143175  0.02703  0.26172"
      ]
     },
     "execution_count": 229,
     "metadata": {},
     "output_type": "execute_result"
    }
   ],
   "source": [
    "read_life_df = pd.read_csv(\"Real_life_time.csv\")\n",
    "read_life_df.head()"
   ]
  },
  {
   "cell_type": "code",
   "execution_count": 230,
   "metadata": {},
   "outputs": [],
   "source": [
    "realconf1= read_life_df[\"conf1\"]\n",
    "realconf2= read_life_df[\"conf2\"]\n",
    "realconf3= read_life_df[\"conf3\"]\n",
    "realconf4= read_life_df[\"conf4\"]\n",
    "realconf5= read_life_df[\"conf5\"]\n",
    "realconf6= read_life_df[\"conf6\"]\n",
    "realconf7= read_life_df[\"conf7\"]"
   ]
  },
  {
   "cell_type": "code",
   "execution_count": 231,
   "metadata": {},
   "outputs": [
    {
     "data": {
      "text/html": [
       "<div>\n",
       "<style scoped>\n",
       "    .dataframe tbody tr th:only-of-type {\n",
       "        vertical-align: middle;\n",
       "    }\n",
       "\n",
       "    .dataframe tbody tr th {\n",
       "        vertical-align: top;\n",
       "    }\n",
       "\n",
       "    .dataframe thead th {\n",
       "        text-align: right;\n",
       "    }\n",
       "</style>\n",
       "<table border=\"1\" class=\"dataframe\">\n",
       "  <thead>\n",
       "    <tr style=\"text-align: right;\">\n",
       "      <th></th>\n",
       "      <th>Lifetime</th>\n",
       "      <th>Conf1</th>\n",
       "      <th>Conf2</th>\n",
       "      <th>Conf3</th>\n",
       "      <th>Conf4</th>\n",
       "      <th>Conf5</th>\n",
       "      <th>Conf6</th>\n",
       "      <th>Conf7</th>\n",
       "    </tr>\n",
       "  </thead>\n",
       "  <tbody>\n",
       "    <tr>\n",
       "      <th>0</th>\n",
       "      <td>Real_lifetime</td>\n",
       "      <td>0.09803</td>\n",
       "      <td>0.076230</td>\n",
       "      <td>0.17793</td>\n",
       "      <td>0.020145</td>\n",
       "      <td>0.143175</td>\n",
       "      <td>0.027030</td>\n",
       "      <td>0.261720</td>\n",
       "    </tr>\n",
       "    <tr>\n",
       "      <th>1</th>\n",
       "      <td>Neda_Lifetime_bootstrap</td>\n",
       "      <td>0.08623</td>\n",
       "      <td>0.075225</td>\n",
       "      <td>0.17475</td>\n",
       "      <td>0.017010</td>\n",
       "      <td>0.139165</td>\n",
       "      <td>0.025475</td>\n",
       "      <td>0.251295</td>\n",
       "    </tr>\n",
       "  </tbody>\n",
       "</table>\n",
       "</div>"
      ],
      "text/plain": [
       "                  Lifetime    Conf1     Conf2    Conf3     Conf4     Conf5  \\\n",
       "0            Real_lifetime  0.09803  0.076230  0.17793  0.020145  0.143175   \n",
       "1  Neda_Lifetime_bootstrap  0.08623  0.075225  0.17475  0.017010  0.139165   \n",
       "\n",
       "      Conf6     Conf7  \n",
       "0  0.027030  0.261720  \n",
       "1  0.025475  0.251295  "
      ]
     },
     "execution_count": 231,
     "metadata": {},
     "output_type": "execute_result"
    }
   ],
   "source": [
    "import pandas as pd\n",
    "\n",
    "Algorithm = {'Lifetime': ['Real_lifetime','Neda_Lifetime_bootstrap'],'Conf1': [realconf1[0],liftime_conf1],\n",
    "        'Conf2':[realconf2[0],liftime_conf2],'Conf3': [realconf3[0],liftime_conf3],\n",
    "        'Conf4': [realconf4[0],liftime_conf4], 'Conf5': [realconf5[0],liftime_conf5],\n",
    "              'Conf6': [realconf6[0],liftime_conf6],'Conf7': [realconf7[0],liftime_conf7]\n",
    "        }\n",
    "\n",
    "df = pd.DataFrame(Algorithm, columns = ['Lifetime', 'Conf1' ,'Conf2' ,'Conf3','Conf4','Conf5','Conf6','Conf7'])\n",
    "df.head()"
   ]
  },
  {
   "cell_type": "code",
   "execution_count": 232,
   "metadata": {},
   "outputs": [],
   "source": [
    "df.to_csv(\"compare_lifetime_Bootstrap_v3.csv\")"
   ]
  },
  {
   "cell_type": "code",
   "execution_count": null,
   "metadata": {},
   "outputs": [],
   "source": []
  }
 ],
 "metadata": {
  "kernelspec": {
   "display_name": "Python 3",
   "language": "python",
   "name": "python3"
  },
  "language_info": {
   "codemirror_mode": {
    "name": "ipython",
    "version": 3
   },
   "file_extension": ".py",
   "mimetype": "text/x-python",
   "name": "python",
   "nbconvert_exporter": "python",
   "pygments_lexer": "ipython3",
   "version": "3.7.7"
  }
 },
 "nbformat": 4,
 "nbformat_minor": 4
}
